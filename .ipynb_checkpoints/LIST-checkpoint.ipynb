{
 "cells": [
  {
   "cell_type": "markdown",
   "id": "6d4a608b",
   "metadata": {},
   "source": [
    "#  List\n"
   ]
  },
  {
   "cell_type": "code",
   "execution_count": 6,
   "id": "a52f5013",
   "metadata": {},
   "outputs": [],
   "source": [
    "# Creating a list\n",
    "a=[1,5,4,7,8,7]\n"
   ]
  },
  {
   "cell_type": "code",
   "execution_count": 7,
   "id": "5f0abcd4",
   "metadata": {},
   "outputs": [
    {
     "data": {
      "text/plain": [
       "[1, 5, 4, 7, 8, 7]"
      ]
     },
     "execution_count": 7,
     "metadata": {},
     "output_type": "execute_result"
    }
   ],
   "source": [
    "a"
   ]
  },
  {
   "cell_type": "code",
   "execution_count": 8,
   "id": "f43ec80d",
   "metadata": {},
   "outputs": [
    {
     "data": {
      "text/plain": [
       "6"
      ]
     },
     "execution_count": 8,
     "metadata": {},
     "output_type": "execute_result"
    }
   ],
   "source": [
    "len(a)"
   ]
  },
  {
   "cell_type": "code",
   "execution_count": 9,
   "id": "83d43b01",
   "metadata": {},
   "outputs": [],
   "source": [
    "a[2]=15\n",
    "#list are mutable, elements can change."
   ]
  },
  {
   "cell_type": "code",
   "execution_count": 10,
   "id": "58d1b83a",
   "metadata": {},
   "outputs": [
    {
     "data": {
      "text/plain": [
       "[1, 5, 15, 7, 8, 7]"
      ]
     },
     "execution_count": 10,
     "metadata": {},
     "output_type": "execute_result"
    }
   ],
   "source": [
    "a"
   ]
  },
  {
   "cell_type": "markdown",
   "id": "1a78e662",
   "metadata": {},
   "source": [
    "# Adding elements to the list\n",
    "1 using append \n",
    "2 using insert\n",
    "3 using extend"
   ]
  },
  {
   "cell_type": "code",
   "execution_count": 13,
   "id": "538c4984",
   "metadata": {},
   "outputs": [
    {
     "data": {
      "text/plain": [
       "[1, 5, 15, 7, 8, 7, 45]"
      ]
     },
     "execution_count": 13,
     "metadata": {},
     "output_type": "execute_result"
    }
   ],
   "source": [
    "a"
   ]
  },
  {
   "cell_type": "code",
   "execution_count": 14,
   "id": "209c352b",
   "metadata": {},
   "outputs": [],
   "source": [
    "a.append(45)"
   ]
  },
  {
   "cell_type": "code",
   "execution_count": 15,
   "id": "0da4204d",
   "metadata": {},
   "outputs": [
    {
     "data": {
      "text/plain": [
       "[1, 5, 15, 7, 8, 7, 45, 45]"
      ]
     },
     "execution_count": 15,
     "metadata": {},
     "output_type": "execute_result"
    }
   ],
   "source": [
    "a"
   ]
  },
  {
   "cell_type": "code",
   "execution_count": null,
   "id": "668beccd",
   "metadata": {},
   "outputs": [],
   "source": []
  },
  {
   "cell_type": "code",
   "execution_count": null,
   "id": "42b17f6e",
   "metadata": {},
   "outputs": [],
   "source": []
  }
 ],
 "metadata": {
  "kernelspec": {
   "display_name": "Python 3 (ipykernel)",
   "language": "python",
   "name": "python3"
  },
  "language_info": {
   "codemirror_mode": {
    "name": "ipython",
    "version": 3
   },
   "file_extension": ".py",
   "mimetype": "text/x-python",
   "name": "python",
   "nbconvert_exporter": "python",
   "pygments_lexer": "ipython3",
   "version": "3.9.5"
  }
 },
 "nbformat": 4,
 "nbformat_minor": 5
}
