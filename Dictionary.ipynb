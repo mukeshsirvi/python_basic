{
 "cells": [
  {
   "cell_type": "markdown",
   "id": "2d640d9d",
   "metadata": {},
   "source": [
    "Dictionary- Unorderd collection of data value key:value pair"
   ]
  },
  {
   "cell_type": "code",
   "execution_count": 1,
   "id": "85737f40",
   "metadata": {},
   "outputs": [],
   "source": [
    "d={\n",
    "    \"name\":\"vikas\",\n",
    "    \"class\":12,\n",
    "    \"village\":\"pali\"\n",
    "}"
   ]
  },
  {
   "cell_type": "code",
   "execution_count": 2,
   "id": "15181605",
   "metadata": {},
   "outputs": [
    {
     "data": {
      "text/plain": [
       "{'name': 'vikas', 'class': 12, 'village': 'pali'}"
      ]
     },
     "execution_count": 2,
     "metadata": {},
     "output_type": "execute_result"
    }
   ],
   "source": [
    "d"
   ]
  },
  {
   "cell_type": "markdown",
   "id": "c559d58b",
   "metadata": {},
   "source": [
    "# adding elements to the dictionary"
   ]
  },
  {
   "cell_type": "code",
   "execution_count": 6,
   "id": "282cbcf6",
   "metadata": {},
   "outputs": [],
   "source": [
    "d[\"name\"]=\"tamki\"  #if exiting value is their than it will update "
   ]
  },
  {
   "cell_type": "code",
   "execution_count": 7,
   "id": "91b1d7dc",
   "metadata": {},
   "outputs": [
    {
     "data": {
      "text/plain": [
       "{'name': 'tamki', 'class': 12, 'village': 'pali'}"
      ]
     },
     "execution_count": 7,
     "metadata": {},
     "output_type": "execute_result"
    }
   ],
   "source": [
    "d"
   ]
  },
  {
   "cell_type": "code",
   "execution_count": 12,
   "id": "92d68b93",
   "metadata": {},
   "outputs": [],
   "source": [
    "d.update({\"name\":\"harji\"})"
   ]
  },
  {
   "cell_type": "code",
   "execution_count": 13,
   "id": "ed084d19",
   "metadata": {},
   "outputs": [
    {
     "data": {
      "text/plain": [
       "{'name': 'harji', 'class': 12, 'village': 'pali'}"
      ]
     },
     "execution_count": 13,
     "metadata": {},
     "output_type": "execute_result"
    }
   ],
   "source": [
    "d"
   ]
  },
  {
   "cell_type": "markdown",
   "id": "5476afde",
   "metadata": {},
   "source": [
    "# accessing elements"
   ]
  },
  {
   "cell_type": "code",
   "execution_count": 14,
   "id": "4e6b7711",
   "metadata": {},
   "outputs": [
    {
     "data": {
      "text/plain": [
       "'harji'"
      ]
     },
     "execution_count": 14,
     "metadata": {},
     "output_type": "execute_result"
    }
   ],
   "source": [
    "d[\"name\"]"
   ]
  },
  {
   "cell_type": "code",
   "execution_count": 15,
   "id": "a2b3afb8",
   "metadata": {},
   "outputs": [
    {
     "data": {
      "text/plain": [
       "12"
      ]
     },
     "execution_count": 15,
     "metadata": {},
     "output_type": "execute_result"
    }
   ],
   "source": [
    "d[\"class\"]"
   ]
  },
  {
   "cell_type": "code",
   "execution_count": 16,
   "id": "11a3c7cb",
   "metadata": {},
   "outputs": [
    {
     "data": {
      "text/plain": [
       "'pali'"
      ]
     },
     "execution_count": 16,
     "metadata": {},
     "output_type": "execute_result"
    }
   ],
   "source": [
    "d[\"village\"]"
   ]
  },
  {
   "cell_type": "code",
   "execution_count": null,
   "id": "171b6d3a",
   "metadata": {},
   "outputs": [],
   "source": []
  }
 ],
 "metadata": {
  "kernelspec": {
   "display_name": "Python 3 (ipykernel)",
   "language": "python",
   "name": "python3"
  },
  "language_info": {
   "codemirror_mode": {
    "name": "ipython",
    "version": 3
   },
   "file_extension": ".py",
   "mimetype": "text/x-python",
   "name": "python",
   "nbconvert_exporter": "python",
   "pygments_lexer": "ipython3",
   "version": "3.9.5"
  }
 },
 "nbformat": 4,
 "nbformat_minor": 5
}
