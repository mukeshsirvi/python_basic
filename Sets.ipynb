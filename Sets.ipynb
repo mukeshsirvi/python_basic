{
 "cells": [
  {
   "cell_type": "markdown",
   "id": "8b065071",
   "metadata": {},
   "source": [
    "SETS-unordered collection of datasets it is iterable,mutable and no duplicate value "
   ]
  },
  {
   "cell_type": "code",
   "execution_count": 1,
   "id": "a5b46730",
   "metadata": {},
   "outputs": [],
   "source": [
    "a={1,5,4,7,8,45}"
   ]
  },
  {
   "cell_type": "code",
   "execution_count": 2,
   "id": "fc4d7774",
   "metadata": {},
   "outputs": [
    {
     "data": {
      "text/plain": [
       "{1, 4, 5, 7, 8, 45}"
      ]
     },
     "execution_count": 2,
     "metadata": {},
     "output_type": "execute_result"
    }
   ],
   "source": [
    "a"
   ]
  },
  {
   "cell_type": "code",
   "execution_count": 3,
   "id": "e8abb92a",
   "metadata": {},
   "outputs": [
    {
     "data": {
      "text/plain": [
       "set"
      ]
     },
     "execution_count": 3,
     "metadata": {},
     "output_type": "execute_result"
    }
   ],
   "source": [
    "type(a)"
   ]
  },
  {
   "cell_type": "code",
   "execution_count": 4,
   "id": "22396575",
   "metadata": {},
   "outputs": [],
   "source": [
    "a={}"
   ]
  },
  {
   "cell_type": "code",
   "execution_count": 5,
   "id": "30c53fb5",
   "metadata": {},
   "outputs": [
    {
     "data": {
      "text/plain": [
       "dict"
      ]
     },
     "execution_count": 5,
     "metadata": {},
     "output_type": "execute_result"
    }
   ],
   "source": [
    "type(a)"
   ]
  },
  {
   "cell_type": "code",
   "execution_count": 9,
   "id": "c489ca17",
   "metadata": {},
   "outputs": [],
   "source": [
    "#creating empty set\n",
    "b=set()"
   ]
  },
  {
   "cell_type": "code",
   "execution_count": 10,
   "id": "3719aa08",
   "metadata": {},
   "outputs": [
    {
     "data": {
      "text/plain": [
       "{}"
      ]
     },
     "execution_count": 10,
     "metadata": {},
     "output_type": "execute_result"
    }
   ],
   "source": [
    "a"
   ]
  },
  {
   "cell_type": "code",
   "execution_count": 8,
   "id": "28766e1b",
   "metadata": {},
   "outputs": [
    {
     "data": {
      "text/plain": [
       "set"
      ]
     },
     "execution_count": 8,
     "metadata": {},
     "output_type": "execute_result"
    }
   ],
   "source": [
    "type(b)"
   ]
  },
  {
   "cell_type": "code",
   "execution_count": 15,
   "id": "7b2c7c92",
   "metadata": {},
   "outputs": [],
   "source": [
    "a={45,4,47,456,74}"
   ]
  },
  {
   "cell_type": "code",
   "execution_count": 16,
   "id": "6397649b",
   "metadata": {},
   "outputs": [],
   "source": [
    "a={45,8,6,48,5,(45,85,74,57,15,49)}"
   ]
  },
  {
   "cell_type": "markdown",
   "id": "1a0ca56e",
   "metadata": {},
   "source": [
    "# Adding elements to the set\n",
    "1 using add\n",
    "2 using update"
   ]
  },
  {
   "cell_type": "code",
   "execution_count": 17,
   "id": "76440a68",
   "metadata": {},
   "outputs": [],
   "source": [
    "a.add(12)"
   ]
  },
  {
   "cell_type": "code",
   "execution_count": 18,
   "id": "86dd3f0e",
   "metadata": {},
   "outputs": [
    {
     "data": {
      "text/plain": [
       "{(45, 85, 74, 57, 15, 49), 12, 45, 48, 5, 6, 8}"
      ]
     },
     "execution_count": 18,
     "metadata": {},
     "output_type": "execute_result"
    }
   ],
   "source": [
    "a"
   ]
  },
  {
   "cell_type": "code",
   "execution_count": 19,
   "id": "0701ec70",
   "metadata": {},
   "outputs": [],
   "source": [
    "a.update([12,25])"
   ]
  },
  {
   "cell_type": "code",
   "execution_count": 20,
   "id": "139e6b73",
   "metadata": {},
   "outputs": [
    {
     "data": {
      "text/plain": [
       "{(45, 85, 74, 57, 15, 49), 12, 25, 45, 48, 5, 6, 8}"
      ]
     },
     "execution_count": 20,
     "metadata": {},
     "output_type": "execute_result"
    }
   ],
   "source": [
    "a"
   ]
  },
  {
   "cell_type": "markdown",
   "id": "f1d0d61a",
   "metadata": {},
   "source": [
    "# Removing elements from the set\n",
    "1 using remove\n",
    "2 using pop\n",
    "3 using clear"
   ]
  },
  {
   "cell_type": "code",
   "execution_count": 21,
   "id": "777c7c6b",
   "metadata": {},
   "outputs": [
    {
     "data": {
      "text/plain": [
       "{(45, 85, 74, 57, 15, 49), 12, 25, 45, 48, 5, 6, 8}"
      ]
     },
     "execution_count": 21,
     "metadata": {},
     "output_type": "execute_result"
    }
   ],
   "source": [
    "a"
   ]
  },
  {
   "cell_type": "code",
   "execution_count": 22,
   "id": "26d9785a",
   "metadata": {},
   "outputs": [],
   "source": [
    "a.remove(12)"
   ]
  },
  {
   "cell_type": "code",
   "execution_count": 23,
   "id": "2c91a468",
   "metadata": {},
   "outputs": [
    {
     "data": {
      "text/plain": [
       "{(45, 85, 74, 57, 15, 49), 25, 45, 48, 5, 6, 8}"
      ]
     },
     "execution_count": 23,
     "metadata": {},
     "output_type": "execute_result"
    }
   ],
   "source": [
    "a"
   ]
  },
  {
   "cell_type": "code",
   "execution_count": 24,
   "id": "a9ff0c89",
   "metadata": {},
   "outputs": [
    {
     "data": {
      "text/plain": [
       "48"
      ]
     },
     "execution_count": 24,
     "metadata": {},
     "output_type": "execute_result"
    }
   ],
   "source": [
    "a.pop()"
   ]
  },
  {
   "cell_type": "code",
   "execution_count": 25,
   "id": "1d2401de",
   "metadata": {},
   "outputs": [],
   "source": [
    "a.clear()"
   ]
  },
  {
   "cell_type": "code",
   "execution_count": 26,
   "id": "53885b2a",
   "metadata": {},
   "outputs": [
    {
     "data": {
      "text/plain": [
       "set()"
      ]
     },
     "execution_count": 26,
     "metadata": {},
     "output_type": "execute_result"
    }
   ],
   "source": [
    "a"
   ]
  },
  {
   "cell_type": "markdown",
   "id": "0b299fb9",
   "metadata": {},
   "source": [
    "# Set methods"
   ]
  },
  {
   "cell_type": "code",
   "execution_count": 31,
   "id": "da42fac4",
   "metadata": {},
   "outputs": [],
   "source": [
    "a={25,7,4,5,8,6,44,45,68}\n",
    "b={45,90,96,68,47,58,44,45}"
   ]
  },
  {
   "cell_type": "code",
   "execution_count": 34,
   "id": "0a48a4f7",
   "metadata": {},
   "outputs": [],
   "source": [
    "c=a.difference(b)"
   ]
  },
  {
   "cell_type": "code",
   "execution_count": 35,
   "id": "4ff5de45",
   "metadata": {},
   "outputs": [
    {
     "data": {
      "text/plain": [
       "{4, 5, 6, 7, 8, 25}"
      ]
     },
     "execution_count": 35,
     "metadata": {},
     "output_type": "execute_result"
    }
   ],
   "source": [
    "c"
   ]
  },
  {
   "cell_type": "code",
   "execution_count": 36,
   "id": "6479a9a8",
   "metadata": {},
   "outputs": [],
   "source": [
    "d=a.union(b)"
   ]
  },
  {
   "cell_type": "code",
   "execution_count": 37,
   "id": "615b5069",
   "metadata": {},
   "outputs": [
    {
     "data": {
      "text/plain": [
       "{4, 5, 6, 7, 8, 25, 44, 45, 47, 58, 68, 90, 96}"
      ]
     },
     "execution_count": 37,
     "metadata": {},
     "output_type": "execute_result"
    }
   ],
   "source": [
    "d"
   ]
  },
  {
   "cell_type": "code",
   "execution_count": null,
   "id": "537c3da1",
   "metadata": {},
   "outputs": [],
   "source": []
  }
 ],
 "metadata": {
  "kernelspec": {
   "display_name": "Python 3 (ipykernel)",
   "language": "python",
   "name": "python3"
  },
  "language_info": {
   "codemirror_mode": {
    "name": "ipython",
    "version": 3
   },
   "file_extension": ".py",
   "mimetype": "text/x-python",
   "name": "python",
   "nbconvert_exporter": "python",
   "pygments_lexer": "ipython3",
   "version": "3.9.5"
  }
 },
 "nbformat": 4,
 "nbformat_minor": 5
}
